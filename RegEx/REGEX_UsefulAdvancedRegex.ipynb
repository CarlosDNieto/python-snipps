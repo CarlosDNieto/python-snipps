{
 "cells": [
  {
   "cell_type": "markdown",
   "metadata": {},
   "source": [
    "# Step-up Your RegEx Game in Python\n",
    "\n",
    "source article: https://towardsdatascience.com/step-up-your-regex-game-in-python-1ec20c5d65f\n",
    "\n",
    "Author: [James Briggs](https://towardsdatascience.com/@jamescalam?source=post_page-----1ec20c5d65f----------------------)"
   ]
  },
  {
   "cell_type": "markdown",
   "metadata": {},
   "source": [
    "Near the top of this page is my name and in the HTML — my username. It looks like this:"
   ]
  },
  {
   "cell_type": "code",
   "execution_count": 1,
   "metadata": {},
   "outputs": [],
   "source": [
    "s = '<a href=\"/@jamescalam?source=post_page-----22e4e63463af----------------------\" class=\"cg ch au av aw ax ay az ba bb it be ck cl\" rel=\"noopener\">James Briggs</a>'"
   ]
  },
  {
   "cell_type": "markdown",
   "metadata": {},
   "source": [
    "Say we are interested in pulling theusername from the HTML of the page, we've taken all ``<a>`` elements and will identify the username using RegEx.\n",
    "\n",
    "We could do something messy like this"
   ]
  },
  {
   "cell_type": "code",
   "execution_count": 9,
   "metadata": {},
   "outputs": [
    {
     "data": {
      "text/plain": [
       "'@jamescalam'"
      ]
     },
     "execution_count": 9,
     "metadata": {},
     "output_type": "execute_result"
    }
   ],
   "source": [
    "if '<a href=\"/@' in s:\n",
    "    username = s.replace('<a href=\"/', '')\n",
    "    username = username.split('?source')[0]\n",
    "username"
   ]
  },
  {
   "cell_type": "markdown",
   "metadata": {},
   "source": [
    "But using __look-behind__ and __look-ahead__ assertions, we get much more dynamic, flexible logic like so:"
   ]
  },
  {
   "cell_type": "code",
   "execution_count": 10,
   "metadata": {},
   "outputs": [],
   "source": [
    "import re"
   ]
  },
  {
   "cell_type": "code",
   "execution_count": 11,
   "metadata": {},
   "outputs": [
    {
     "data": {
      "text/plain": [
       "'@jamescalam'"
      ]
     },
     "execution_count": 11,
     "metadata": {},
     "output_type": "execute_result"
    }
   ],
   "source": [
    "if bool(re.search(r\"(?=<\\/)'@.*(?=\\?source)\",s)):\n",
    "    username = re.search(r\"(?=<\\/)'@.*(?=\\?source)\",s).group()\n",
    "username"
   ]
  },
  {
   "cell_type": "markdown",
   "metadata": {},
   "source": [
    "## Look-Behind\n",
    "The look-behind assertion tell our regex to **assert** that any potential match is **preceded** by the pattern given to the assertion. Let's compare a regex with and without this assertion:\n",
    "\n",
    " * **Look-behind** — we are looking behind (preceding) our pattern.\n",
    " \n",
    " * **Assertion** — we are asserting the presence of this other pattern, but we are not matching it (eg including in our outputted text).\n"
   ]
  },
  {
   "cell_type": "markdown",
   "metadata": {},
   "source": [
    "## In Practice\n",
    "\n",
    "For this, we'll use [Enron email dataset](https://www.kaggle.com/wcukierski/enron-email-dataset?select=emails.csv). We have to columns ``file`` and ``message``. If we take a look at the first instance of the ``message`` column we find:"
   ]
  },
  {
   "cell_type": "code",
   "execution_count": 12,
   "metadata": {},
   "outputs": [],
   "source": [
    "import pandas as pd"
   ]
  },
  {
   "cell_type": "code",
   "execution_count": 13,
   "metadata": {},
   "outputs": [],
   "source": [
    "data = pd.read_csv(\"data/emails.csv\")"
   ]
  },
  {
   "cell_type": "code",
   "execution_count": 14,
   "metadata": {},
   "outputs": [
    {
     "name": "stdout",
     "output_type": "stream",
     "text": [
      "Message-ID: <18782981.1075855378110.JavaMail.evans@thyme>\n",
      "Date: Mon, 14 May 2001 16:39:00 -0700 (PDT)\n",
      "From: phillip.allen@enron.com\n",
      "To: tim.belden@enron.com\n",
      "Subject: \n",
      "Mime-Version: 1.0\n",
      "Content-Type: text/plain; charset=us-ascii\n",
      "Content-Transfer-Encoding: 7bit\n",
      "X-From: Phillip K Allen\n",
      "X-To: Tim Belden <Tim Belden/Enron@EnronXGate>\n",
      "X-cc: \n",
      "X-bcc: \n",
      "X-Folder: \\Phillip_Allen_Jan2002_1\\Allen, Phillip K.\\'Sent Mail\n",
      "X-Origin: Allen-P\n",
      "X-FileName: pallen (Non-Privileged).pst\n",
      "\n",
      "Here is our forecast\n",
      "\n",
      " \n"
     ]
    }
   ],
   "source": [
    "print(data['message'].iloc[0])"
   ]
  },
  {
   "cell_type": "markdown",
   "metadata": {},
   "source": [
    "From this data, we would like to extract ``Message-ID`` and ``Date``."
   ]
  },
  {
   "cell_type": "code",
   "execution_count": 15,
   "metadata": {},
   "outputs": [],
   "source": [
    "# we could write something like this:\n",
    "def boring_stract(msg):\n",
    "    msg = msg.splitlines()\n",
    "    msg_id = \"\".join(msg[0].replace('Message-ID: <',\"\").split(\".\")[:2])\n",
    "    time = msg[1].replace(\"Date: \",\"\")[-5:]"
   ]
  },
  {
   "cell_type": "markdown",
   "metadata": {},
   "source": [
    "Now, this looks pretty awful and is going to take a long time to run -it's also not dynamic at all, what if for some reason a field is missing in the data or ``Date`` and ``Form`` switch position? -The code would break\n",
    "\n",
    "This is where we ise regex, relying heavily on look-ahead and look-behind assertions. Let's compare code with and without regex:"
   ]
  },
  {
   "cell_type": "code",
   "execution_count": 26,
   "metadata": {},
   "outputs": [
    {
     "data": {
      "text/plain": [
       "['Message-ID: <18782981.1075855378110.JavaMail.evans@thyme>',\n",
       " 'Date: Mon, 14 May 2001 16:39:00 -0700 (PDT)',\n",
       " 'From: phillip.allen@enron.com',\n",
       " 'To: tim.belden@enron.com',\n",
       " 'Subject: ',\n",
       " 'Mime-Version: 1.0',\n",
       " 'Content-Type: text/plain; charset=us-ascii',\n",
       " 'Content-Transfer-Encoding: 7bit',\n",
       " 'X-From: Phillip K Allen',\n",
       " 'X-To: Tim Belden <Tim Belden/Enron@EnronXGate>',\n",
       " 'X-cc: ',\n",
       " 'X-bcc: ',\n",
       " \"X-Folder: \\\\Phillip_Allen_Jan2002_1\\\\Allen, Phillip K.\\\\'Sent Mail\",\n",
       " 'X-Origin: Allen-P',\n",
       " 'X-FileName: pallen (Non-Privileged).pst',\n",
       " '',\n",
       " 'Here is our forecast',\n",
       " '',\n",
       " ' ']"
      ]
     },
     "execution_count": 26,
     "metadata": {},
     "output_type": "execute_result"
    }
   ],
   "source": [
    "data['message'].iloc[0].splitlines()"
   ]
  },
  {
   "cell_type": "markdown",
   "metadata": {},
   "source": [
    "**Message-ID**"
   ]
  },
  {
   "cell_type": "code",
   "execution_count": 33,
   "metadata": {},
   "outputs": [
    {
     "data": {
      "text/plain": [
       "'187829811075855378110'"
      ]
     },
     "execution_count": 33,
     "metadata": {},
     "output_type": "execute_result"
    }
   ],
   "source": [
    "msg = data['message'].iloc[0]\n",
    "\n",
    "# No RegEx\n",
    "msg = msg.splitlines()\n",
    "msg_id = msg[0].replace('Message-ID: <', '')\n",
    "msg_id = msg_id.split('.')[:2]\n",
    "msg_id = ''.join(msg_id)\n",
    "msg_id"
   ]
  },
  {
   "cell_type": "code",
   "execution_count": 35,
   "metadata": {},
   "outputs": [
    {
     "data": {
      "text/plain": [
       "'18782981.1075855378110'"
      ]
     },
     "execution_count": 35,
     "metadata": {},
     "output_type": "execute_result"
    }
   ],
   "source": [
    "msg = data['message'].iloc[0]\n",
    "\n",
    "# With RegEx:\n",
    "msg_id = re.search(r'(?<=Message-ID: <)\\d+.\\d+(?=.)', msg).group()\n",
    "msg_id"
   ]
  },
  {
   "cell_type": "markdown",
   "metadata": {},
   "source": [
    "**Date**"
   ]
  },
  {
   "cell_type": "code",
   "execution_count": 44,
   "metadata": {},
   "outputs": [
    {
     "data": {
      "text/plain": [
       "'Mon, 14 May 2001 16:39:00 -0700'"
      ]
     },
     "execution_count": 44,
     "metadata": {},
     "output_type": "execute_result"
    }
   ],
   "source": [
    "msg = data['message'].iloc[0]\n",
    "\n",
    "#No Regex\n",
    "msg = msg.splitlines()\n",
    "time = msg[1].replace('Date: ',\"\")[:-6]\n",
    "time"
   ]
  },
  {
   "cell_type": "code",
   "execution_count": 39,
   "metadata": {},
   "outputs": [
    {
     "data": {
      "text/plain": [
       "'Mon, 14 May 2001 16:39:00 -0700'"
      ]
     },
     "execution_count": 39,
     "metadata": {},
     "output_type": "execute_result"
    }
   ],
   "source": [
    "msg = data['message'].iloc[0]\n",
    "\n",
    "# with Regex\n",
    "time = re.search(r'(?<=Date: ).*(?= \\(\\w\\w\\w\\))', msg).group()\n",
    "time"
   ]
  },
  {
   "cell_type": "markdown",
   "metadata": {},
   "source": [
    "On both the Message-ID and Date regexes, we begin with ``(?<= )`` and end with ``(?= )`` — the positive look-behind and look-ahead assertions respectively. For the example above, we output the following for msg_id and time"
   ]
  }
 ],
 "metadata": {
  "kernelspec": {
   "display_name": "Python 3",
   "language": "python",
   "name": "python3"
  },
  "language_info": {
   "codemirror_mode": {
    "name": "ipython",
    "version": 3
   },
   "file_extension": ".py",
   "mimetype": "text/x-python",
   "name": "python",
   "nbconvert_exporter": "python",
   "pygments_lexer": "ipython3",
   "version": "3.8.1"
  }
 },
 "nbformat": 4,
 "nbformat_minor": 4
}
