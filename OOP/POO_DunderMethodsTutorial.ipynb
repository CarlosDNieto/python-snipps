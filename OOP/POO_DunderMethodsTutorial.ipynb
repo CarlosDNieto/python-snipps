{
 "cells": [
  {
   "cell_type": "markdown",
   "metadata": {},
   "source": [
    "# Magic methods for Objects in Python\n",
    "\n",
    "Magic methods are methods in objects that are defined by two underscores at the beginning and the end of the method name in the object. They are also known as __Dunder Methods__. A lot of things we do in python are done by this __Dunder Methods__ behind the hood."
   ]
  },
  {
   "cell_type": "markdown",
   "metadata": {},
   "source": [
    "### 1. ``__init__()``\n",
    "It is the constructor of the class."
   ]
  },
  {
   "cell_type": "code",
   "execution_count": 31,
   "metadata": {},
   "outputs": [],
   "source": [
    "class Student():\n",
    "    def __init__(self, id, name):\n",
    "        self.id, self.name = id, name"
   ]
  },
  {
   "cell_type": "code",
   "execution_count": 32,
   "metadata": {},
   "outputs": [],
   "source": [
    "s = Student(1, \"Carlos\")"
   ]
  },
  {
   "cell_type": "code",
   "execution_count": 33,
   "metadata": {},
   "outputs": [
    {
     "name": "stdout",
     "output_type": "stream",
     "text": [
      "<__main__.Student object at 0x113b76fa0>\n"
     ]
    }
   ],
   "source": [
    "print(s)"
   ]
  },
  {
   "cell_type": "markdown",
   "metadata": {},
   "source": [
    "### 2. ``__str__()``\n",
    "String human readable representation of the object"
   ]
  },
  {
   "cell_type": "code",
   "execution_count": 56,
   "metadata": {},
   "outputs": [],
   "source": [
    "class Student():\n",
    "    def __init__(self, id, name):\n",
    "        self.id, self.name = id, name\n",
    "    def __str__(self):\n",
    "        return f\"Student {self.name} with id {self.id}\""
   ]
  },
  {
   "cell_type": "code",
   "execution_count": 36,
   "metadata": {},
   "outputs": [],
   "source": [
    "s = Student(1,\"Carlos\")"
   ]
  },
  {
   "cell_type": "code",
   "execution_count": 37,
   "metadata": {},
   "outputs": [
    {
     "name": "stdout",
     "output_type": "stream",
     "text": [
      "Student Carlos with id 1\n"
     ]
    }
   ],
   "source": [
    "print(s)"
   ]
  },
  {
   "cell_type": "markdown",
   "metadata": {},
   "source": [
    "### 3. ``__len__()``\n",
    "Counts the length of something in a class"
   ]
  },
  {
   "cell_type": "code",
   "execution_count": 38,
   "metadata": {},
   "outputs": [],
   "source": [
    "class School():\n",
    "    def __init__(self, students, grades):\n",
    "        self.students, self.grades = students, grades\n",
    "    def __len__(self):\n",
    "        return len(self.grades)"
   ]
  },
  {
   "cell_type": "code",
   "execution_count": 39,
   "metadata": {},
   "outputs": [],
   "source": [
    "students = [Student(1,\"Carlos\"), Student(2,\"Jimena\"), Student(3,\"Isaac\")]\n",
    "grades = [\"F\", \"A-\", \"B+\"]\n",
    "\n",
    "sc = School(students, grades)"
   ]
  },
  {
   "cell_type": "code",
   "execution_count": 40,
   "metadata": {},
   "outputs": [
    {
     "data": {
      "text/plain": [
       "3"
      ]
     },
     "execution_count": 40,
     "metadata": {},
     "output_type": "execute_result"
    }
   ],
   "source": [
    "len(sc)"
   ]
  },
  {
   "cell_type": "markdown",
   "metadata": {},
   "source": [
    "### 4. ``__getitem__()``\n",
    "Easy way to acces of a particular item of an object"
   ]
  },
  {
   "cell_type": "code",
   "execution_count": 44,
   "metadata": {},
   "outputs": [],
   "source": [
    "class School():\n",
    "    def __init__(self, students, grades):\n",
    "        self.students, self.grades = students, grades\n",
    "    def __len__(self):\n",
    "        return len(self.grades)\n",
    "    def __getitem__(self, i):\n",
    "        return self.students[i].name, self.grades[i]"
   ]
  },
  {
   "cell_type": "code",
   "execution_count": 45,
   "metadata": {},
   "outputs": [],
   "source": [
    "students = [Student(1,\"Carlos\"), Student(2,\"Jimena\"), Student(3,\"Isaac\")]\n",
    "grades = [\"F\", \"A-\", \"B+\"]\n",
    "\n",
    "sc = School(students, grades)"
   ]
  },
  {
   "cell_type": "code",
   "execution_count": 46,
   "metadata": {},
   "outputs": [
    {
     "data": {
      "text/plain": [
       "('Carlos', 'F')"
      ]
     },
     "execution_count": 46,
     "metadata": {},
     "output_type": "execute_result"
    }
   ],
   "source": [
    "sc[0]"
   ]
  },
  {
   "cell_type": "markdown",
   "metadata": {},
   "source": [
    "### 5. ``__setitem__()``\n",
    "Edits a particular item of an object"
   ]
  },
  {
   "cell_type": "code",
   "execution_count": 47,
   "metadata": {},
   "outputs": [],
   "source": [
    "class School():\n",
    "    def __init__(self, students, grades):\n",
    "        self.students, self.grades = students, grades\n",
    "    def __len__(self):\n",
    "        return len(self.grades)\n",
    "    def __getitem__(self, i):\n",
    "        return self.students[i].name, self.grades[i]\n",
    "    def __setitem__(self, i, g):\n",
    "        self.grades[i] = g"
   ]
  },
  {
   "cell_type": "code",
   "execution_count": 49,
   "metadata": {},
   "outputs": [
    {
     "data": {
      "text/plain": [
       "('Carlos', 'F')"
      ]
     },
     "execution_count": 49,
     "metadata": {},
     "output_type": "execute_result"
    }
   ],
   "source": [
    "students = [Student(1,\"Carlos\"), Student(2,\"Jimena\"), Student(3,\"Isaac\")]\n",
    "grades = [\"F\", \"A-\", \"B+\"]\n",
    "\n",
    "sc = School(students, grades)\n",
    "sc[0]"
   ]
  },
  {
   "cell_type": "code",
   "execution_count": 50,
   "metadata": {},
   "outputs": [
    {
     "data": {
      "text/plain": [
       "('Carlos', 'A')"
      ]
     },
     "execution_count": 50,
     "metadata": {},
     "output_type": "execute_result"
    }
   ],
   "source": [
    "sc[0] = \"A\"\n",
    "sc[0]"
   ]
  },
  {
   "cell_type": "markdown",
   "metadata": {},
   "source": [
    "### 6. ``__getattr__()`` and ``__setattr__()``\n",
    "These methods are automatically available in Python when you create a class to get and set its attributes. Hence we don’t need to define them. However, we can do so if we want to alter their behavior."
   ]
  },
  {
   "cell_type": "code",
   "execution_count": 63,
   "metadata": {},
   "outputs": [],
   "source": [
    "class School():\n",
    "    def __init__(self, students, grades):\n",
    "        self._all_attr = {} # dictionary of all attributes\n",
    "        self.students, self.grades = students, grades\n",
    "    def __len__(self):\n",
    "        return len(self.grades)\n",
    "    def __getitem__(self, i):\n",
    "        return self.students[i].name, self.grades[i]\n",
    "    def __setitem__(self, i, g):\n",
    "        self.grades[i] = g\n",
    "        \n",
    "    def __setattr__(self,k,v):\n",
    "        if not k.startswith(\"_\"): self._all_attr[k] = v\n",
    "        super().__setattr__(k,v)\n",
    "    def print_all(self):\n",
    "        for atr,val in self._all_attr.items(): print(atr, val)"
   ]
  },
  {
   "cell_type": "code",
   "execution_count": 64,
   "metadata": {},
   "outputs": [
    {
     "name": "stdout",
     "output_type": "stream",
     "text": [
      "students [<__main__.Student object at 0x113b76640>, <__main__.Student object at 0x113b767f0>, <__main__.Student object at 0x113b76f10>]\n",
      "grades ['F', 'A-', 'B+']\n"
     ]
    }
   ],
   "source": [
    "students = [Student(1,\"Carlos\"), Student(2,\"Jimena\"), Student(3,\"Isaac\")]\n",
    "grades = [\"F\", \"A-\", \"B+\"]\n",
    "\n",
    "sc = School(students, grades)\n",
    "sc.print_all()"
   ]
  },
  {
   "cell_type": "markdown",
   "metadata": {},
   "source": [
    "### 7. ``__iter__()``\n",
    "Creates and iterator, we can use it to acces a student at a time"
   ]
  },
  {
   "cell_type": "code",
   "execution_count": 65,
   "metadata": {},
   "outputs": [],
   "source": [
    "class School():\n",
    "    def __init__(self, students, grades):\n",
    "        self.students, self.grades = students, grades\n",
    "    def __iter__(self):\n",
    "        for i in range(len(grades)):\n",
    "            yield self.students[i].name, self.grades[i]"
   ]
  },
  {
   "cell_type": "code",
   "execution_count": 66,
   "metadata": {},
   "outputs": [],
   "source": [
    "students = [Student(1,\"Carlos\"), Student(2,\"Jimena\"), Student(3,\"Isaac\")]\n",
    "grades = [\"F\", \"A-\", \"B+\"]\n",
    "\n",
    "sc = School(students, grades)"
   ]
  },
  {
   "cell_type": "code",
   "execution_count": 70,
   "metadata": {},
   "outputs": [
    {
     "data": {
      "text/plain": [
       "('Carlos', 'F')"
      ]
     },
     "execution_count": 70,
     "metadata": {},
     "output_type": "execute_result"
    }
   ],
   "source": [
    "next(iter(sc))"
   ]
  },
  {
   "cell_type": "code",
   "execution_count": 71,
   "metadata": {},
   "outputs": [
    {
     "name": "stdout",
     "output_type": "stream",
     "text": [
      "Carlos F\n",
      "Jimena A-\n",
      "Isaac B+\n"
     ]
    }
   ],
   "source": [
    "for s,g in iter(sc):\n",
    "    print(s,g)"
   ]
  },
  {
   "cell_type": "markdown",
   "metadata": {},
   "source": [
    "### 8. ``__add__()``\n",
    "Makes more intuitive operations between cetrain objects."
   ]
  },
  {
   "cell_type": "code",
   "execution_count": 72,
   "metadata": {},
   "outputs": [],
   "source": [
    "class Cost:\n",
    "    def __init__(self, symbol, value):\n",
    "        self.symbol, self.value = symbol, value\n",
    "        \n",
    "    def __add__(self, other):\n",
    "        return self.value + other.value"
   ]
  },
  {
   "cell_type": "code",
   "execution_count": 73,
   "metadata": {},
   "outputs": [],
   "source": [
    "pizza = Cost('$',5)"
   ]
  },
  {
   "cell_type": "code",
   "execution_count": 74,
   "metadata": {},
   "outputs": [],
   "source": [
    "burger = Cost('$',10)"
   ]
  },
  {
   "cell_type": "code",
   "execution_count": 75,
   "metadata": {},
   "outputs": [
    {
     "data": {
      "text/plain": [
       "15"
      ]
     },
     "execution_count": 75,
     "metadata": {},
     "output_type": "execute_result"
    }
   ],
   "source": [
    "pizza + burger"
   ]
  },
  {
   "cell_type": "markdown",
   "metadata": {},
   "source": [
    "## More Methods:\n",
    "\n",
    "* ``__new__()``\n",
    "* ``__del__()``\n",
    "* ``__enter__()``\n",
    "* ``__exit__()``\n"
   ]
  }
 ],
 "metadata": {
  "kernelspec": {
   "display_name": "Python 3",
   "language": "python",
   "name": "python3"
  },
  "language_info": {
   "codemirror_mode": {
    "name": "ipython",
    "version": 3
   },
   "file_extension": ".py",
   "mimetype": "text/x-python",
   "name": "python",
   "nbconvert_exporter": "python",
   "pygments_lexer": "ipython3",
   "version": "3.8.1"
  }
 },
 "nbformat": 4,
 "nbformat_minor": 4
}
