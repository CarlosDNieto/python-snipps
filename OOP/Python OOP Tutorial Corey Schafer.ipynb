{
 "cells": [
  {
   "cell_type": "markdown",
   "metadata": {},
   "source": [
    "# Python OOP Tutorial\n",
    "\n",
    "Author: [Corey Schafer](https://www.youtube.com/channel/UCCezIgC97PvUuR4_gbFUs5g)\n",
    "\n",
    "Video List: https://www.youtube.com/watch?v=ZDa-Z5JzLYM&list=PL-osiE80TeTsqhIuOqKhwlXsIBIdSeYtc"
   ]
  },
  {
   "cell_type": "markdown",
   "metadata": {},
   "source": [
    "## 1. Classes and Instances"
   ]
  },
  {
   "cell_type": "code",
   "execution_count": 24,
   "metadata": {},
   "outputs": [],
   "source": [
    "class Employee:\n",
    "    def __init__(self, first, last, pay):\n",
    "        self.first = first\n",
    "        self.last = last\n",
    "        self.pay = pay\n",
    "        self.email = first.lower() + \".\" + last.lower() + \"@company.com\"\n",
    "    \n",
    "    def fullname(self):\n",
    "        return self.first + \" \" + self.last"
   ]
  },
  {
   "cell_type": "code",
   "execution_count": 25,
   "metadata": {},
   "outputs": [],
   "source": [
    "emp_1 = Employee(\"Carlos\", \"Nieto\", 50000)\n",
    "emp_2 = Employee(\"Test\", \"User\", 500)"
   ]
  },
  {
   "cell_type": "code",
   "execution_count": 26,
   "metadata": {},
   "outputs": [
    {
     "name": "stdout",
     "output_type": "stream",
     "text": [
      "<__main__.Employee object at 0x110564d30>\n",
      "<__main__.Employee object at 0x110564580>\n"
     ]
    }
   ],
   "source": [
    "# unique items in memory\n",
    "print(emp_1)\n",
    "print(emp_2)"
   ]
  },
  {
   "cell_type": "code",
   "execution_count": 27,
   "metadata": {},
   "outputs": [
    {
     "name": "stdout",
     "output_type": "stream",
     "text": [
      "carlos.nieto@company.com\n",
      "test.user@company.com\n"
     ]
    }
   ],
   "source": [
    "print(emp_1.email)\n",
    "print(emp_2.email)"
   ]
  },
  {
   "cell_type": "code",
   "execution_count": 28,
   "metadata": {},
   "outputs": [
    {
     "name": "stdout",
     "output_type": "stream",
     "text": [
      "Carlos Nieto\n"
     ]
    }
   ],
   "source": [
    "print(\"{} {}\".format(emp_1.first, emp_1.last))"
   ]
  },
  {
   "cell_type": "code",
   "execution_count": 29,
   "metadata": {},
   "outputs": [
    {
     "name": "stdout",
     "output_type": "stream",
     "text": [
      "Carlos Nieto\n"
     ]
    }
   ],
   "source": [
    "print(emp_1.fullname())"
   ]
  },
  {
   "cell_type": "markdown",
   "metadata": {},
   "source": [
    "## 2. Class Variables"
   ]
  },
  {
   "cell_type": "code",
   "execution_count": 57,
   "metadata": {},
   "outputs": [],
   "source": [
    "class Employee:\n",
    "    \n",
    "    raise_amount = 1.04\n",
    "    num_of_emps = 0\n",
    "    \n",
    "    def __init__(self, first, last, pay):\n",
    "        self.first = first\n",
    "        self.last = last\n",
    "        self.pay = pay\n",
    "        self.email = first.lower() + \".\" + last.lower() + \"@company.com\"\n",
    "        \n",
    "        # to keep track of the number of employees we've created\n",
    "        Employee.num_of_emps += 1\n",
    "    \n",
    "    def fullname(self):\n",
    "        return self.first + \" \" + self.last\n",
    "    \n",
    "    def apply_raise(self):\n",
    "        self.pay = int(self.pay * self.raise_amount)"
   ]
  },
  {
   "cell_type": "code",
   "execution_count": 58,
   "metadata": {},
   "outputs": [
    {
     "name": "stdout",
     "output_type": "stream",
     "text": [
      "Initial pay:  50000\n",
      "Raised pay:  52000\n"
     ]
    }
   ],
   "source": [
    "emp1 = Employee(\"Carlos\", \"Nieto\", 50000)\n",
    "emp2 = Employee(\"Test\", \"User\", 500)\n",
    "\n",
    "print(\"Initial pay: \",emp1.pay)\n",
    "emp1.apply_raise()\n",
    "print(\"Raised pay: \",emp1.pay)"
   ]
  },
  {
   "cell_type": "code",
   "execution_count": 59,
   "metadata": {},
   "outputs": [
    {
     "name": "stdout",
     "output_type": "stream",
     "text": [
      "1.04\n",
      "1.04\n"
     ]
    }
   ],
   "source": [
    "print(Employee.raise_amount)\n",
    "print(emp1.raise_amount)"
   ]
  },
  {
   "cell_type": "code",
   "execution_count": 60,
   "metadata": {},
   "outputs": [
    {
     "name": "stdout",
     "output_type": "stream",
     "text": [
      "{'first': 'Carlos', 'last': 'Nieto', 'pay': 52000, 'email': 'carlos.nieto@company.com'}\n"
     ]
    }
   ],
   "source": [
    "print(emp1.__dict__)"
   ]
  },
  {
   "cell_type": "code",
   "execution_count": 61,
   "metadata": {},
   "outputs": [
    {
     "name": "stdout",
     "output_type": "stream",
     "text": [
      "{'__module__': '__main__', 'raise_amount': 1.04, 'num_of_emps': 2, '__init__': <function Employee.__init__ at 0x110508af0>, 'fullname': <function Employee.fullname at 0x110508550>, 'apply_raise': <function Employee.apply_raise at 0x110508f70>, '__dict__': <attribute '__dict__' of 'Employee' objects>, '__weakref__': <attribute '__weakref__' of 'Employee' objects>, '__doc__': None}\n"
     ]
    }
   ],
   "source": [
    "print(Employee.__dict__)"
   ]
  },
  {
   "cell_type": "code",
   "execution_count": 62,
   "metadata": {},
   "outputs": [
    {
     "name": "stdout",
     "output_type": "stream",
     "text": [
      "1.04\n",
      "1.05\n",
      "{'first': 'Carlos', 'last': 'Nieto', 'pay': 52000, 'email': 'carlos.nieto@company.com', 'raise_amount': 1.05}\n"
     ]
    }
   ],
   "source": [
    "emp1.raise_amount = 1.05\n",
    "print(Employee.raise_amount)\n",
    "print(emp1.raise_amount)\n",
    "print(emp1.__dict__)"
   ]
  },
  {
   "cell_type": "code",
   "execution_count": 63,
   "metadata": {},
   "outputs": [
    {
     "name": "stdout",
     "output_type": "stream",
     "text": [
      "2\n"
     ]
    }
   ],
   "source": [
    "print(Employee.num_of_emps)"
   ]
  },
  {
   "cell_type": "markdown",
   "metadata": {},
   "source": [
    "## 3. classmethods and staticmethods"
   ]
  },
  {
   "cell_type": "code",
   "execution_count": 93,
   "metadata": {},
   "outputs": [],
   "source": [
    "class Employee:\n",
    "    \n",
    "    raise_amount = 1.04\n",
    "    num_of_emps = 0\n",
    "    \n",
    "    def __init__(self, first, last, pay):\n",
    "        self.first = first\n",
    "        self.last = last\n",
    "        self.pay = pay\n",
    "        self.email = first.lower() + \".\" + last.lower() + \"@company.com\"\n",
    "        \n",
    "        # to keep track of the number of employees we've created\n",
    "        Employee.num_of_emps += 1\n",
    "    \n",
    "    def fullname(self):\n",
    "        return self.first + \" \" + self.last\n",
    "    \n",
    "    def apply_raise(self):\n",
    "        self.pay = int(self.pay * self.raise_amount)\n",
    "        \n",
    "    @classmethod\n",
    "    def set_raise_amt(cls, amount):\n",
    "        cls.raise_amount = amount\n",
    "    \n",
    "    # alternative constructor\n",
    "    @classmethod\n",
    "    def from_string(cls, emp_str):\n",
    "        first, last, pay = emp_str.split(\"-\")\n",
    "        return cls(first, last, pay)\n",
    "    \n",
    "    # static methods dont take the self or class instances\n",
    "    # when you don't use anything from the class\n",
    "    @staticmethod\n",
    "    def is_workday(day):\n",
    "        if day.weekday() == 5 or day.weekday() == 6:\n",
    "            return False\n",
    "        else:\n",
    "            return True\n",
    "    \n",
    "    "
   ]
  },
  {
   "cell_type": "code",
   "execution_count": 94,
   "metadata": {},
   "outputs": [
    {
     "name": "stdout",
     "output_type": "stream",
     "text": [
      "1.04\n",
      "1.04\n",
      "1.04\n"
     ]
    }
   ],
   "source": [
    "emp1 = Employee(\"Carlos\", \"Nieto\", 50000)\n",
    "emp2 = Employee(\"Test\", \"User\", 500)\n",
    "\n",
    "print(Employee.raise_amount)\n",
    "print(emp1.raise_amount)\n",
    "print(emp2.raise_amount)"
   ]
  },
  {
   "cell_type": "code",
   "execution_count": 95,
   "metadata": {},
   "outputs": [
    {
     "name": "stdout",
     "output_type": "stream",
     "text": [
      "1.05\n",
      "1.05\n",
      "1.05\n"
     ]
    }
   ],
   "source": [
    "Employee.set_raise_amt(1.05)\n",
    "\n",
    "print(Employee.raise_amount)\n",
    "print(emp1.raise_amount)\n",
    "print(emp2.raise_amount)"
   ]
  },
  {
   "cell_type": "code",
   "execution_count": 96,
   "metadata": {},
   "outputs": [
    {
     "name": "stdout",
     "output_type": "stream",
     "text": [
      "1.11\n",
      "1.11\n",
      "1.11\n"
     ]
    }
   ],
   "source": [
    "emp1.set_raise_amt(1.11)\n",
    "\n",
    "print(Employee.raise_amount)\n",
    "print(emp1.raise_amount)\n",
    "print(emp2.raise_amount)"
   ]
  },
  {
   "cell_type": "code",
   "execution_count": 97,
   "metadata": {},
   "outputs": [
    {
     "name": "stdout",
     "output_type": "stream",
     "text": [
      "john.doe@company.com\n",
      "70000\n"
     ]
    }
   ],
   "source": [
    "emp_str_1 = 'John-Doe-70000'\n",
    "emp_str_2 = 'Steve-Smith-60000'\n",
    "emp_str_3 = 'Jane-Doe-90000'\n",
    "\n",
    "first, last, pay = emp_str_1.split(\"-\")\n",
    "\n",
    "new_emp_1 = Employee(first, last, pay)\n",
    "\n",
    "print(new_emp_1.email)\n",
    "print(new_emp_1.pay)"
   ]
  },
  {
   "cell_type": "code",
   "execution_count": 98,
   "metadata": {},
   "outputs": [
    {
     "name": "stdout",
     "output_type": "stream",
     "text": [
      "steve.smith@company.com\n",
      "60000\n"
     ]
    }
   ],
   "source": [
    "new_emp_2 = Employee.from_string(emp_str_2)\n",
    "\n",
    "print(new_emp_2.email)\n",
    "print(new_emp_2.pay)"
   ]
  },
  {
   "cell_type": "code",
   "execution_count": 105,
   "metadata": {},
   "outputs": [
    {
     "name": "stdout",
     "output_type": "stream",
     "text": [
      "True\n"
     ]
    }
   ],
   "source": [
    "import datetime\n",
    "my_date = datetime.date(2020,6,26)\n",
    "\n",
    "print(Employee.is_workday(my_date))"
   ]
  },
  {
   "cell_type": "markdown",
   "metadata": {},
   "source": [
    "## 4. Inheritance and creatin subclasses"
   ]
  },
  {
   "cell_type": "code",
   "execution_count": 137,
   "metadata": {},
   "outputs": [],
   "source": [
    "class Developer(Employee):\n",
    "    \n",
    "    raise_amt = 1.2\n",
    "    \n",
    "    def __init__(self, first, last, pay, prog_lang):\n",
    "        super().__init__(first, last, pay)\n",
    "        #Employee.__init__(self,first, last, pay)\n",
    "        self.prog_lang = prog_lang\n",
    "        \n",
    "class Manager(Employee):\n",
    "    \n",
    "    def __init__(self, first, last, pay, employees=None):\n",
    "        super().__init__(first, last, pay)\n",
    "        \n",
    "        # employees that the manager supervises\n",
    "        if employees is None:\n",
    "            self.employees = []\n",
    "        else:\n",
    "            self.employees = employees\n",
    "            \n",
    "    def add_employee(self, emp):\n",
    "        if emp not in self.employees:\n",
    "            self.employees.append(emp)\n",
    "    \n",
    "    def remove_employee(self, emp):\n",
    "        if emp in self.employees:\n",
    "            self.employees.remove(emp)\n",
    "        \n",
    "    def print_emps(self):\n",
    "        for emp in self.employees:\n",
    "            print(\"--->\", emp.fullname())\n",
    "        "
   ]
  },
  {
   "cell_type": "code",
   "execution_count": 138,
   "metadata": {
    "scrolled": true
   },
   "outputs": [
    {
     "name": "stdout",
     "output_type": "stream",
     "text": [
      "Python\n",
      "Java\n",
      "50000\n",
      "1.2\n",
      "55500\n"
     ]
    }
   ],
   "source": [
    "dev1 = Developer(\"Carlos\", \"Nieto\", 50000, \"Python\")\n",
    "dev2 = Developer(\"Test\", \"User\", 500, \"Java\")\n",
    "\n",
    "print(dev1.prog_lang)\n",
    "print(dev2.prog_lang)\n",
    "\n",
    "print(dev1.pay)\n",
    "print(dev1.raise_amt)\n",
    "dev1.apply_raise()\n",
    "print(dev1.pay)"
   ]
  },
  {
   "cell_type": "code",
   "execution_count": 139,
   "metadata": {},
   "outputs": [
    {
     "data": {
      "text/plain": [
       "[<__main__.Developer at 0x110a3bd30>, <__main__.Developer at 0x110a3b1f0>]"
      ]
     },
     "execution_count": 139,
     "metadata": {},
     "output_type": "execute_result"
    }
   ],
   "source": [
    "mgr1.employees"
   ]
  },
  {
   "cell_type": "code",
   "execution_count": 140,
   "metadata": {},
   "outputs": [
    {
     "name": "stdout",
     "output_type": "stream",
     "text": [
      "sue.smith@company.com\n",
      "---> Carlos Nieto\n",
      "added  Test User\n",
      "---> Carlos Nieto\n",
      "---> Test User\n",
      "Removed  Carlos Nieto\n",
      "---> Test User\n"
     ]
    }
   ],
   "source": [
    "mgr1 = Manager(\"Sue\", \"Smith\", 90000, [dev1])\n",
    "\n",
    "print(mgr1.email)\n",
    "\n",
    "mgr1.print_emps()\n",
    "\n",
    "mgr1.add_employee(dev2)\n",
    "print(\"added \", dev2.fullname())\n",
    "\n",
    "mgr1.print_emps()\n",
    "\n",
    "mgr1.remove_employee(dev1)\n",
    "print(\"Removed \",dev1.fullname())\n",
    "mgr1.print_emps()"
   ]
  },
  {
   "cell_type": "code",
   "execution_count": 146,
   "metadata": {},
   "outputs": [
    {
     "name": "stdout",
     "output_type": "stream",
     "text": [
      "False\n",
      "True\n",
      "True\n",
      "True\n",
      "False\n",
      "True\n"
     ]
    }
   ],
   "source": [
    "print(isinstance(mgr1, Developer))\n",
    "print(isinstance(mgr1, Employee))\n",
    "print(isinstance(mgr1, Manager))\n",
    "\n",
    "print(issubclass(Manager,Employee))\n",
    "print(issubclass(Manager, Developer))\n",
    "print(issubclass(Developer, Employee))"
   ]
  },
  {
   "cell_type": "code",
   "execution_count": 109,
   "metadata": {},
   "outputs": [
    {
     "name": "stdout",
     "output_type": "stream",
     "text": [
      "Help on class Developer in module __main__:\n",
      "\n",
      "class Developer(Employee)\n",
      " |  Developer(first, last, pay)\n",
      " |  \n",
      " |  Method resolution order:\n",
      " |      Developer\n",
      " |      Employee\n",
      " |      builtins.object\n",
      " |  \n",
      " |  Methods inherited from Employee:\n",
      " |  \n",
      " |  __init__(self, first, last, pay)\n",
      " |      Initialize self.  See help(type(self)) for accurate signature.\n",
      " |  \n",
      " |  apply_raise(self)\n",
      " |  \n",
      " |  fullname(self)\n",
      " |  \n",
      " |  ----------------------------------------------------------------------\n",
      " |  Class methods inherited from Employee:\n",
      " |  \n",
      " |  from_string(emp_str) from builtins.type\n",
      " |      # alternative constructor\n",
      " |  \n",
      " |  set_raise_amt(amount) from builtins.type\n",
      " |  \n",
      " |  ----------------------------------------------------------------------\n",
      " |  Static methods inherited from Employee:\n",
      " |  \n",
      " |  is_workday(day)\n",
      " |      # static methods dont take the self or class instances\n",
      " |      # when you don't use anything from the class\n",
      " |  \n",
      " |  ----------------------------------------------------------------------\n",
      " |  Data descriptors inherited from Employee:\n",
      " |  \n",
      " |  __dict__\n",
      " |      dictionary for instance variables (if defined)\n",
      " |  \n",
      " |  __weakref__\n",
      " |      list of weak references to the object (if defined)\n",
      " |  \n",
      " |  ----------------------------------------------------------------------\n",
      " |  Data and other attributes inherited from Employee:\n",
      " |  \n",
      " |  num_of_emps = 8\n",
      " |  \n",
      " |  raise_amount = 1.11\n",
      "\n",
      "None\n"
     ]
    }
   ],
   "source": [
    "print(help(Developer))"
   ]
  },
  {
   "cell_type": "markdown",
   "metadata": {},
   "source": [
    "## 5. Special (Magic/Dunder) Methods\n",
    "\n",
    "[Special Methods Docs](https://docs.python.org/3/reference/datamodel.html#special-method-names)"
   ]
  },
  {
   "cell_type": "code",
   "execution_count": 173,
   "metadata": {},
   "outputs": [],
   "source": [
    "class Employee:\n",
    "    \n",
    "    raise_amount = 1.04\n",
    "    \n",
    "    def __init__(self, first, last, pay):\n",
    "        self.first = first\n",
    "        self.last = last\n",
    "        self.pay = pay\n",
    "        self.email = first.lower() + \".\" + last.lower() + \"@company.com\"\n",
    "    \n",
    "    def fullname(self):\n",
    "        return self.first + \" \" + self.last\n",
    "    \n",
    "    def apply_raise(self):\n",
    "        self.pay = int(self.pay * self.raise_amount)\n",
    "        \n",
    "    def __repr__(self):\n",
    "        return \"Employee('{}','{}','{}')\".format(self.first, self.last, self.pay)\n",
    "    \n",
    "    def __str__(self):\n",
    "        return '{} - {}'.format(self.fullname(), self.email)\n",
    "    \n",
    "    def __add__(self, other):\n",
    "        return self.pay + other.pay\n",
    "    \n",
    "    def __len__(self):\n",
    "        return len(self.fullname())\n",
    "    \n",
    "    \n",
    "        \n",
    "emp1 = Employee(\"Carlos\", \"Nieto\", 50000)\n",
    "emp2 = Employee(\"Test\", \"User\", 500)"
   ]
  },
  {
   "cell_type": "code",
   "execution_count": 164,
   "metadata": {},
   "outputs": [
    {
     "data": {
      "text/plain": [
       "Employee('Carlos','Nieto','50000')"
      ]
     },
     "execution_count": 164,
     "metadata": {},
     "output_type": "execute_result"
    }
   ],
   "source": [
    "emp1"
   ]
  },
  {
   "cell_type": "code",
   "execution_count": 165,
   "metadata": {},
   "outputs": [
    {
     "data": {
      "text/plain": [
       "\"Employee('Carlos','Nieto','50000')\""
      ]
     },
     "execution_count": 165,
     "metadata": {},
     "output_type": "execute_result"
    }
   ],
   "source": [
    "repr(emp1)"
   ]
  },
  {
   "cell_type": "code",
   "execution_count": 166,
   "metadata": {},
   "outputs": [
    {
     "data": {
      "text/plain": [
       "'Carlos Nieto - carlos.nieto@company.com'"
      ]
     },
     "execution_count": 166,
     "metadata": {},
     "output_type": "execute_result"
    }
   ],
   "source": [
    "str(emp1)"
   ]
  },
  {
   "cell_type": "code",
   "execution_count": 167,
   "metadata": {},
   "outputs": [
    {
     "name": "stdout",
     "output_type": "stream",
     "text": [
      "Employee('Carlos','Nieto','50000')\n",
      "Carlos Nieto - carlos.nieto@company.com\n"
     ]
    }
   ],
   "source": [
    "print(emp1.__repr__())\n",
    "print(emp1.__str__())"
   ]
  },
  {
   "cell_type": "code",
   "execution_count": 168,
   "metadata": {},
   "outputs": [
    {
     "name": "stdout",
     "output_type": "stream",
     "text": [
      "3\n",
      "ab\n"
     ]
    }
   ],
   "source": [
    "print(int.__add__(1,2))\n",
    "print(str.__add__(\"a\",\"b\"))"
   ]
  },
  {
   "cell_type": "code",
   "execution_count": 170,
   "metadata": {},
   "outputs": [
    {
     "name": "stdout",
     "output_type": "stream",
     "text": [
      "50500\n",
      "50500\n"
     ]
    }
   ],
   "source": [
    "print(Employee.__add__(emp1,emp2))\n",
    "print(emp1 + emp2)"
   ]
  },
  {
   "cell_type": "code",
   "execution_count": 171,
   "metadata": {},
   "outputs": [
    {
     "name": "stdout",
     "output_type": "stream",
     "text": [
      "4\n"
     ]
    }
   ],
   "source": [
    "print(len(\"test\"))"
   ]
  },
  {
   "cell_type": "code",
   "execution_count": 172,
   "metadata": {},
   "outputs": [
    {
     "name": "stdout",
     "output_type": "stream",
     "text": [
      "4\n"
     ]
    }
   ],
   "source": [
    "print('test'.__len__())"
   ]
  },
  {
   "cell_type": "code",
   "execution_count": 175,
   "metadata": {},
   "outputs": [
    {
     "name": "stdout",
     "output_type": "stream",
     "text": [
      "12\n",
      "12\n"
     ]
    }
   ],
   "source": [
    "print(emp1.__len__())\n",
    "print(len(emp1))"
   ]
  },
  {
   "cell_type": "markdown",
   "metadata": {},
   "source": [
    "## 6. Poperty decorators"
   ]
  },
  {
   "cell_type": "code",
   "execution_count": 206,
   "metadata": {},
   "outputs": [
    {
     "name": "stdout",
     "output_type": "stream",
     "text": [
      "Carlos\n",
      "Nieto\n",
      "carlos.nieto@company.com\n"
     ]
    }
   ],
   "source": [
    "class Employee:\n",
    "    \n",
    "    def __init__(self, first, last):\n",
    "        self.first = first\n",
    "        self.last = last\n",
    "        \n",
    "    @property\n",
    "    def email(self):\n",
    "        return self.first.lower() + \".\" + self.last.lower() + \"@company.com\"\n",
    "    \n",
    "    @property\n",
    "    def fullname(self):\n",
    "        return self.first + \" \" + self.last\n",
    "    \n",
    "    @fullname.setter\n",
    "    def fullname(self, name):\n",
    "        first, last = name.split(\" \")\n",
    "        self.first = first\n",
    "        self.last = last\n",
    "        \n",
    "    @fullname.deleter\n",
    "    def fullname(self):\n",
    "        print(\"Delete Name!\")\n",
    "        self.first = None\n",
    "        self.last = None\n",
    "        \n",
    "    \n",
    "emp1 = Employee(\"Carlos\", \"Nieto\")\n",
    "\n",
    "print(emp1.first)\n",
    "print(emp1.last)\n",
    "print(emp1.email)"
   ]
  },
  {
   "cell_type": "code",
   "execution_count": 207,
   "metadata": {},
   "outputs": [
    {
     "name": "stdout",
     "output_type": "stream",
     "text": [
      "Jim\n",
      "Nieto\n",
      "jim.nieto@company.com\n"
     ]
    }
   ],
   "source": [
    "emp1.first = \"Jim\"\n",
    "print(emp1.first)\n",
    "print(emp1.last)\n",
    "print(emp1.email)"
   ]
  },
  {
   "cell_type": "code",
   "execution_count": 208,
   "metadata": {},
   "outputs": [
    {
     "name": "stdout",
     "output_type": "stream",
     "text": [
      "Jim\n",
      "Dean\n",
      "jim.dean@company.com\n"
     ]
    }
   ],
   "source": [
    "emp1.fullname = \"Jim Dean\"\n",
    "print(emp1.first)\n",
    "print(emp1.last)\n",
    "print(emp1.email)"
   ]
  },
  {
   "cell_type": "code",
   "execution_count": 209,
   "metadata": {},
   "outputs": [
    {
     "name": "stdout",
     "output_type": "stream",
     "text": [
      "Delete Name!\n"
     ]
    }
   ],
   "source": [
    "del emp1.fullname"
   ]
  }
 ],
 "metadata": {
  "kernelspec": {
   "display_name": "Python 3",
   "language": "python",
   "name": "python3"
  },
  "language_info": {
   "codemirror_mode": {
    "name": "ipython",
    "version": 3
   },
   "file_extension": ".py",
   "mimetype": "text/x-python",
   "name": "python",
   "nbconvert_exporter": "python",
   "pygments_lexer": "ipython3",
   "version": "3.8.1"
  }
 },
 "nbformat": 4,
 "nbformat_minor": 4
}
