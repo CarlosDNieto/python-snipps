{
 "cells": [
  {
   "cell_type": "code",
   "execution_count": 3,
   "metadata": {},
   "outputs": [],
   "source": [
    "import warnings\n",
    "warnings.filterwarnings(\"ignore\")\n",
    "from sklearn.feature_extraction.text import CountVectorizer\n",
    "from nltk.tokenize import RegexpTokenizer\n",
    "import pandas as pd"
   ]
  },
  {
   "cell_type": "code",
   "execution_count": 4,
   "metadata": {},
   "outputs": [],
   "source": [
    "labels = [\"Good\", \"Bad\", \"Bad\", \"Bad\", \"Good\", \"Good\", \"Bad\", \"Good\", \"Good\", \"Bad\"]\n",
    "opinions = [\"Lo recomendaría a todos mis amigos\",\n",
    "           \"Es el peor producto que he comprado nunca\",\n",
    "           \"Ni loco compraría este producto\",\n",
    "           \"No se lo recomendaría ni a mi enemigo\",\n",
    "           \"Es un buen producto, sí que lo recomendaría\",\n",
    "           \"Me ha encantado\",\n",
    "           \"Es una basura absoluta, ni me molesté en lavarlo, lo tiré directamente\",\n",
    "           \"El enemigo público número uno de la sucierdad\",\n",
    "           \"Es un producto genial, se lo recomendaría a todos los compradores\",\n",
    "           \"Hay que estar loco para comprar esta basura\"]"
   ]
  },
  {
   "cell_type": "code",
   "execution_count": 5,
   "metadata": {},
   "outputs": [],
   "source": [
    "df = pd.DataFrame({\"Sentiment\":labels, \"Opinion\":opinions})\n",
    "\n",
    "token = RegexpTokenizer(r'[a-zA-Z0-9]+')\n",
    "cv = CountVectorizer(lowercase=True, ngram_range=(1,2), tokenizer=token.tokenize)\n",
    "text_counts = cv.fit_transform(df[\"Opinion\"])"
   ]
  },
  {
   "cell_type": "code",
   "execution_count": 6,
   "metadata": {},
   "outputs": [
    {
     "name": "stdout",
     "output_type": "stream",
     "text": [
      "  (0, 54)\t1\n",
      "  (0, 96)\t1\n",
      "  (0, 0)\t2\n",
      "  (0, 105)\t1\n",
      "  (0, 69)\t1\n",
      "  (0, 8)\t1\n",
      "  (0, 55)\t1\n",
      "  (0, 97)\t1\n",
      "  (0, 1)\t1\n",
      "  (0, 5)\t1\n",
      "  (0, 107)\t1\n",
      "  (0, 70)\t1\n",
      "  (1, 32)\t1\n",
      "  (1, 24)\t1\n",
      "  (1, 86)\t1\n",
      "  (1, 88)\t1\n",
      "  (1, 92)\t1\n",
      "  (1, 48)\t1\n",
      "  (1, 15)\t1\n",
      "  (1, 81)\t1\n",
      "  (1, 33)\t1\n",
      "  (1, 26)\t1\n",
      "  (1, 87)\t1\n",
      "  (1, 90)\t1\n",
      "  (1, 94)\t1\n",
      "  :\t:\n",
      "  (8, 108)\t1\n",
      "  (8, 34)\t1\n",
      "  (8, 42)\t1\n",
      "  (8, 60)\t1\n",
      "  (8, 17)\t1\n",
      "  (8, 110)\t1\n",
      "  (8, 89)\t1\n",
      "  (8, 43)\t1\n",
      "  (8, 106)\t1\n",
      "  (8, 61)\t1\n",
      "  (9, 92)\t1\n",
      "  (9, 57)\t1\n",
      "  (9, 18)\t1\n",
      "  (9, 9)\t1\n",
      "  (9, 46)\t1\n",
      "  (9, 38)\t1\n",
      "  (9, 84)\t1\n",
      "  (9, 36)\t1\n",
      "  (9, 47)\t1\n",
      "  (9, 93)\t1\n",
      "  (9, 39)\t1\n",
      "  (9, 59)\t1\n",
      "  (9, 85)\t1\n",
      "  (9, 20)\t1\n",
      "  (9, 37)\t1\n"
     ]
    }
   ],
   "source": [
    "print(text_counts)"
   ]
  },
  {
   "cell_type": "code",
   "execution_count": 18,
   "metadata": {},
   "outputs": [],
   "source": [
    "from sklearn.model_selection import train_test_split\n",
    "X_train, X_test, y_train, y_test = train_test_split(text_counts,\n",
    "                                                   df[\"Sentiment\"],\n",
    "                                                   test_size=0.5,\n",
    "                                                   random_state=1)"
   ]
  },
  {
   "cell_type": "code",
   "execution_count": 19,
   "metadata": {},
   "outputs": [
    {
     "name": "stdout",
     "output_type": "stream",
     "text": [
      "MultinomialNB Accuracy:  0.8\n"
     ]
    }
   ],
   "source": [
    "from sklearn.naive_bayes import MultinomialNB\n",
    "from sklearn import metrics\n",
    "\n",
    "clf = MultinomialNB().fit(X_train, y_train)\n",
    "\n",
    "predicted = clf.predict(X_test)\n",
    "\n",
    "print(\"MultinomialNB Accuracy: \", metrics.accuracy_score(y_test, predicted))"
   ]
  },
  {
   "cell_type": "code",
   "execution_count": 22,
   "metadata": {},
   "outputs": [
    {
     "data": {
      "text/plain": [
       "2     Bad\n",
       "9     Bad\n",
       "6     Bad\n",
       "4    Good\n",
       "0    Good\n",
       "Name: Sentiment, dtype: object"
      ]
     },
     "execution_count": 22,
     "metadata": {},
     "output_type": "execute_result"
    }
   ],
   "source": [
    "y_test"
   ]
  },
  {
   "cell_type": "code",
   "execution_count": 23,
   "metadata": {},
   "outputs": [
    {
     "data": {
      "text/plain": [
       "array(['Bad', 'Bad', 'Bad', 'Bad', 'Good'], dtype='<U4')"
      ]
     },
     "execution_count": 23,
     "metadata": {},
     "output_type": "execute_result"
    }
   ],
   "source": [
    "predicted"
   ]
  }
 ],
 "metadata": {
  "kernelspec": {
   "display_name": "Python 3",
   "language": "python",
   "name": "python3"
  },
  "language_info": {
   "codemirror_mode": {
    "name": "ipython",
    "version": 3
   },
   "file_extension": ".py",
   "mimetype": "text/x-python",
   "name": "python",
   "nbconvert_exporter": "python",
   "pygments_lexer": "ipython3",
   "version": "3.7.6"
  }
 },
 "nbformat": 4,
 "nbformat_minor": 4
}
