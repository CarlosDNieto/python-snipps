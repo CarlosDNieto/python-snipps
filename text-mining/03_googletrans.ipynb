{
 "cells": [
  {
   "cell_type": "code",
   "execution_count": 4,
   "metadata": {},
   "outputs": [],
   "source": [
    "# pip install googletrans\n",
    "from googletrans import Translator"
   ]
  },
  {
   "cell_type": "code",
   "execution_count": 5,
   "metadata": {},
   "outputs": [],
   "source": [
    "translator = Translator()"
   ]
  },
  {
   "cell_type": "code",
   "execution_count": 8,
   "metadata": {},
   "outputs": [
    {
     "name": "stdout",
     "output_type": "stream",
     "text": [
      "Detected(lang=es, confidence=1.0)\n"
     ]
    }
   ],
   "source": [
    "print(translator.detect(\"hola, esto es un traductor\"))"
   ]
  },
  {
   "cell_type": "code",
   "execution_count": 11,
   "metadata": {},
   "outputs": [
    {
     "name": "stdout",
     "output_type": "stream",
     "text": [
      "Detected(lang=es, confidence=0.7467204)\n"
     ]
    }
   ],
   "source": [
    "# baja la confianza\n",
    "print(translator.detect(\"hello, this es a traductor\"))"
   ]
  },
  {
   "cell_type": "code",
   "execution_count": 12,
   "metadata": {},
   "outputs": [],
   "source": [
    "movies = translator.translate([\"La comunidad del anillo\",\n",
    "                              \"Las dos torres\",\n",
    "                              \"El retorno del rey\"])"
   ]
  },
  {
   "cell_type": "code",
   "execution_count": 13,
   "metadata": {},
   "outputs": [
    {
     "name": "stdout",
     "output_type": "stream",
     "text": [
      "La comunidad del anillo -> The Fellowship of the Ring\n",
      "Las dos torres -> The two Towers\n",
      "El retorno del rey -> The return of the King\n"
     ]
    }
   ],
   "source": [
    "for movie in movies:\n",
    "    print(movie.origin, \"->\", movie.text)"
   ]
  },
  {
   "cell_type": "code",
   "execution_count": 18,
   "metadata": {},
   "outputs": [],
   "source": [
    "file_loc = \"/Users/carlosnieto/Google Drive/Personal/CV/Intro Linkedin_2020-06.docx\""
   ]
  },
  {
   "cell_type": "code",
   "execution_count": 17,
   "metadata": {},
   "outputs": [],
   "source": [
    "import docx\n",
    "\n",
    "def getText(filename):\n",
    "    doc = docx.Document(filename)\n",
    "    fullText = []\n",
    "    for para in doc.paragraphs:\n",
    "        fullText.append(para.text)\n",
    "    return '\\n'.join(fullText)"
   ]
  },
  {
   "cell_type": "code",
   "execution_count": 20,
   "metadata": {},
   "outputs": [],
   "source": [
    "text = getText(file_loc)"
   ]
  },
  {
   "cell_type": "code",
   "execution_count": 22,
   "metadata": {},
   "outputs": [],
   "source": [
    "translated_text = translator.translate(text)"
   ]
  },
  {
   "cell_type": "code",
   "execution_count": 23,
   "metadata": {},
   "outputs": [
    {
     "data": {
      "text/plain": [
       "'Hello! I am an eighth semester student in Actuary at the Faculty of Sciences of UNAM. My strongest knowledge is in Statistical Learning models, Time Series, Non-Parametric and Regression Models, Data Mining and Programming. Specifically, I have a broad interest in the areas of Data Science, Data Engineering, Big Data, and Machine Learning.\\n\\nAlso, I have knowledge in the areas of: Insurance, Social Security, Private Pensions and Actuarial Mathematics. Since August 2019 I have been working as a fellow at a Financial Institution; Thanks to that, I know reporting techniques and I have the ability to optimize and automate information processes within management areas within a corporate for business decision making.\\n\\nIn my spare time I work on personal open source projects, which can be found on my GitHub, and I am constantly expanding my knowledge on different online platforms.\\n\\nBesides studying and working, I love watching series and movies, YouTube videos, traveling, playing video games and cooking (eating too).'"
      ]
     },
     "execution_count": 23,
     "metadata": {},
     "output_type": "execute_result"
    }
   ],
   "source": [
    "translated_text.text"
   ]
  }
 ],
 "metadata": {
  "kernelspec": {
   "display_name": "Python 3",
   "language": "python",
   "name": "python3"
  },
  "language_info": {
   "codemirror_mode": {
    "name": "ipython",
    "version": 3
   },
   "file_extension": ".py",
   "mimetype": "text/x-python",
   "name": "python",
   "nbconvert_exporter": "python",
   "pygments_lexer": "ipython3",
   "version": "3.7.6"
  }
 },
 "nbformat": 4,
 "nbformat_minor": 4
}
