{
 "cells": [
  {
   "cell_type": "markdown",
   "metadata": {},
   "source": [
    "# Frequent Problems with Web Scrapping\n",
    "\n",
    "* **Acces limits:** Your ip may be blocked if you send to many requests to a web page.\n",
    "\n",
    "* **Particular exceptions:** With pages that differ a lot from general structures of a web page.\n",
    "\n",
    "* **Broken links**\n",
    "\n",
    "* **Changes in structure:** If the web page updates and change of web structure.\n",
    "\n",
    "* **Hardcoding:** We need to make generalized code since the begining.\n",
    "\n",
    "* **External links** "
   ]
  }
 ],
 "metadata": {
  "kernelspec": {
   "display_name": "Python 3",
   "language": "python",
   "name": "python3"
  },
  "language_info": {
   "codemirror_mode": {
    "name": "ipython",
    "version": 3
   },
   "file_extension": ".py",
   "mimetype": "text/x-python",
   "name": "python",
   "nbconvert_exporter": "python",
   "pygments_lexer": "ipython3",
   "version": "3.7.6"
  }
 },
 "nbformat": 4,
 "nbformat_minor": 4
}
