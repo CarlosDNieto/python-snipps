{
 "cells": [
  {
   "cell_type": "code",
   "execution_count": 12,
   "metadata": {},
   "outputs": [],
   "source": [
    "from bs4 import BeautifulSoup\n",
    "import requests, re, time\n",
    "import numpy as np\n",
    "import pandas as pd\n",
    "from sklearn.model_selection import KFold\n",
    "from sklearn.linear_model import LinearRegression\n",
    "from sklearn.metrics import r2_score\n",
    "import statsmodels.api as sm\n",
    "from itertools import combinations"
   ]
  },
  {
   "cell_type": "code",
   "execution_count": 2,
   "metadata": {},
   "outputs": [],
   "source": [
    "page = requests.get(\"https://es.wikipedia.org/wiki/Anexo:Pa%C3%ADses_de_América_Latina_por_%C3%ADndice_de_desarrollo_humano\")\n",
    "soup = BeautifulSoup(page.content, 'html.parser')\n",
    "tables = soup.find_all(\"table\")\n",
    "data = tables[1]"
   ]
  },
  {
   "cell_type": "code",
   "execution_count": 3,
   "metadata": {},
   "outputs": [
    {
     "data": {
      "text/plain": [
       "['2018', '2015', '2010', '2005', '2000', '1995', '1990']"
      ]
     },
     "execution_count": 3,
     "metadata": {},
     "output_type": "execute_result"
    }
   ],
   "source": [
    "# column names\n",
    "col_names = []\n",
    "for elem in data.find_all(\"th\"):\n",
    "    if elem.string[0]==\"2\" or elem.string[0]==\"1\":\n",
    "        col_names.append(elem.string.replace(\"\\n\",\"\"))\n",
    "col_names"
   ]
  },
  {
   "cell_type": "code",
   "execution_count": 4,
   "metadata": {},
   "outputs": [
    {
     "data": {
      "text/plain": [
       "['Chile',\n",
       " 'Argentina',\n",
       " 'Uruguay',\n",
       " 'Costa Rica',\n",
       " 'Cuba',\n",
       " 'Panamá',\n",
       " 'México',\n",
       " 'Brasil',\n",
       " 'Colombia',\n",
       " 'Guatemala',\n",
       " 'República Dominicana',\n",
       " 'Paraguay',\n",
       " 'Bolivia',\n",
       " 'Venezuela',\n",
       " 'El Salvador',\n",
       " 'Nicaragua',\n",
       " 'Honduras',\n",
       " 'Haití']"
      ]
     },
     "execution_count": 4,
     "metadata": {},
     "output_type": "execute_result"
    }
   ],
   "source": [
    "# countries\n",
    "countries = []\n",
    "for elem in data.find_all([\"a\"]):\n",
    "    countries.append(elem.text.replace(\"\\n\",\"\"))\n",
    "countries"
   ]
  },
  {
   "cell_type": "code",
   "execution_count": 5,
   "metadata": {},
   "outputs": [],
   "source": [
    "# numerical data\n",
    "values = []\n",
    "for elem in data.find_all(\"td\"):\n",
    "    if elem.text[0]==\"0\":\n",
    "        values.append(float(elem.text.replace(\",\",\".\")))\n",
    "        \n",
    "values = np.array(values)\n",
    "values.resize((len(countries),len(col_names)+1))\n",
    "values = values[:,0:len(col_names)]"
   ]
  },
  {
   "cell_type": "code",
   "execution_count": 6,
   "metadata": {
    "scrolled": true
   },
   "outputs": [
    {
     "data": {
      "text/html": [
       "<div>\n",
       "<style scoped>\n",
       "    .dataframe tbody tr th:only-of-type {\n",
       "        vertical-align: middle;\n",
       "    }\n",
       "\n",
       "    .dataframe tbody tr th {\n",
       "        vertical-align: top;\n",
       "    }\n",
       "\n",
       "    .dataframe thead th {\n",
       "        text-align: right;\n",
       "    }\n",
       "</style>\n",
       "<table border=\"1\" class=\"dataframe\">\n",
       "  <thead>\n",
       "    <tr style=\"text-align: right;\">\n",
       "      <th></th>\n",
       "      <th>2018</th>\n",
       "      <th>2015</th>\n",
       "      <th>2010</th>\n",
       "      <th>2005</th>\n",
       "      <th>2000</th>\n",
       "      <th>1995</th>\n",
       "      <th>1990</th>\n",
       "      <th>Change</th>\n",
       "    </tr>\n",
       "  </thead>\n",
       "  <tbody>\n",
       "    <tr>\n",
       "      <th>Chile</th>\n",
       "      <td>0.847</td>\n",
       "      <td>0.839</td>\n",
       "      <td>0.800</td>\n",
       "      <td>0.788</td>\n",
       "      <td>0.753</td>\n",
       "      <td>0.726</td>\n",
       "      <td>0.703</td>\n",
       "      <td>0.136</td>\n",
       "    </tr>\n",
       "    <tr>\n",
       "      <th>Argentina</th>\n",
       "      <td>0.830</td>\n",
       "      <td>0.828</td>\n",
       "      <td>0.818</td>\n",
       "      <td>0.777</td>\n",
       "      <td>0.770</td>\n",
       "      <td>0.731</td>\n",
       "      <td>0.707</td>\n",
       "      <td>0.121</td>\n",
       "    </tr>\n",
       "    <tr>\n",
       "      <th>Uruguay</th>\n",
       "      <td>0.808</td>\n",
       "      <td>0.802</td>\n",
       "      <td>0.774</td>\n",
       "      <td>0.756</td>\n",
       "      <td>0.742</td>\n",
       "      <td>0.710</td>\n",
       "      <td>0.692</td>\n",
       "      <td>0.110</td>\n",
       "    </tr>\n",
       "    <tr>\n",
       "      <th>Costa Rica</th>\n",
       "      <td>0.795</td>\n",
       "      <td>0.782</td>\n",
       "      <td>0.758</td>\n",
       "      <td>0.739</td>\n",
       "      <td>0.719</td>\n",
       "      <td>0.688</td>\n",
       "      <td>0.659</td>\n",
       "      <td>0.123</td>\n",
       "    </tr>\n",
       "    <tr>\n",
       "      <th>Cuba</th>\n",
       "      <td>0.794</td>\n",
       "      <td>0.786</td>\n",
       "      <td>0.754</td>\n",
       "      <td>0.727</td>\n",
       "      <td>0.711</td>\n",
       "      <td>0.686</td>\n",
       "      <td>0.655</td>\n",
       "      <td>0.131</td>\n",
       "    </tr>\n",
       "    <tr>\n",
       "      <th>Panamá</th>\n",
       "      <td>0.779</td>\n",
       "      <td>0.768</td>\n",
       "      <td>0.777</td>\n",
       "      <td>0.730</td>\n",
       "      <td>0.686</td>\n",
       "      <td>0.654</td>\n",
       "      <td>0.676</td>\n",
       "      <td>0.092</td>\n",
       "    </tr>\n",
       "    <tr>\n",
       "      <th>México</th>\n",
       "      <td>0.767</td>\n",
       "      <td>0.759</td>\n",
       "      <td>0.739</td>\n",
       "      <td>0.729</td>\n",
       "      <td>0.705</td>\n",
       "      <td>0.672</td>\n",
       "      <td>0.652</td>\n",
       "      <td>0.107</td>\n",
       "    </tr>\n",
       "    <tr>\n",
       "      <th>Brasil</th>\n",
       "      <td>0.761</td>\n",
       "      <td>0.755</td>\n",
       "      <td>0.726</td>\n",
       "      <td>0.699</td>\n",
       "      <td>0.684</td>\n",
       "      <td>0.650</td>\n",
       "      <td>0.613</td>\n",
       "      <td>0.142</td>\n",
       "    </tr>\n",
       "    <tr>\n",
       "      <th>Colombia</th>\n",
       "      <td>0.761</td>\n",
       "      <td>0.753</td>\n",
       "      <td>0.729</td>\n",
       "      <td>0.692</td>\n",
       "      <td>0.662</td>\n",
       "      <td>0.633</td>\n",
       "      <td>0.599</td>\n",
       "      <td>0.154</td>\n",
       "    </tr>\n",
       "    <tr>\n",
       "      <th>Guatemala</th>\n",
       "      <td>0.745</td>\n",
       "      <td>0.733</td>\n",
       "      <td>0.700</td>\n",
       "      <td>0.675</td>\n",
       "      <td>0.653</td>\n",
       "      <td>0.624</td>\n",
       "      <td>0.593</td>\n",
       "      <td>0.140</td>\n",
       "    </tr>\n",
       "    <tr>\n",
       "      <th>República Dominicana</th>\n",
       "      <td>0.726</td>\n",
       "      <td>0.763</td>\n",
       "      <td>0.753</td>\n",
       "      <td>0.714</td>\n",
       "      <td>0.672</td>\n",
       "      <td>0.661</td>\n",
       "      <td>0.638</td>\n",
       "      <td>0.125</td>\n",
       "    </tr>\n",
       "    <tr>\n",
       "      <th>Paraguay</th>\n",
       "      <td>0.730</td>\n",
       "      <td>0.718</td>\n",
       "      <td>0.692</td>\n",
       "      <td>0.667</td>\n",
       "      <td>0.640</td>\n",
       "      <td>0.622</td>\n",
       "      <td>0.588</td>\n",
       "      <td>0.130</td>\n",
       "    </tr>\n",
       "    <tr>\n",
       "      <th>Bolivia</th>\n",
       "      <td>0.703</td>\n",
       "      <td>0.685</td>\n",
       "      <td>0.656</td>\n",
       "      <td>0.632</td>\n",
       "      <td>0.616</td>\n",
       "      <td>0.578</td>\n",
       "      <td>0.540</td>\n",
       "      <td>0.145</td>\n",
       "    </tr>\n",
       "    <tr>\n",
       "      <th>Venezuela</th>\n",
       "      <td>0.667</td>\n",
       "      <td>0.660</td>\n",
       "      <td>0.659</td>\n",
       "      <td>0.638</td>\n",
       "      <td>0.608</td>\n",
       "      <td>0.573</td>\n",
       "      <td>0.529</td>\n",
       "      <td>0.131</td>\n",
       "    </tr>\n",
       "    <tr>\n",
       "      <th>El Salvador</th>\n",
       "      <td>0.651</td>\n",
       "      <td>0.646</td>\n",
       "      <td>0.602</td>\n",
       "      <td>0.571</td>\n",
       "      <td>0.546</td>\n",
       "      <td>0.507</td>\n",
       "      <td>0.478</td>\n",
       "      <td>0.168</td>\n",
       "    </tr>\n",
       "    <tr>\n",
       "      <th>Nicaragua</th>\n",
       "      <td>0.651</td>\n",
       "      <td>0.644</td>\n",
       "      <td>0.614</td>\n",
       "      <td>0.593</td>\n",
       "      <td>0.568</td>\n",
       "      <td>0.523</td>\n",
       "      <td>0.494</td>\n",
       "      <td>0.150</td>\n",
       "    </tr>\n",
       "    <tr>\n",
       "      <th>Honduras</th>\n",
       "      <td>0.623</td>\n",
       "      <td>0.613</td>\n",
       "      <td>0.598</td>\n",
       "      <td>0.581</td>\n",
       "      <td>0.555</td>\n",
       "      <td>0.530</td>\n",
       "      <td>0.508</td>\n",
       "      <td>0.105</td>\n",
       "    </tr>\n",
       "    <tr>\n",
       "      <th>Haití</th>\n",
       "      <td>0.503</td>\n",
       "      <td>0.493</td>\n",
       "      <td>0.467</td>\n",
       "      <td>0.451</td>\n",
       "      <td>0.440</td>\n",
       "      <td>0.421</td>\n",
       "      <td>0.412</td>\n",
       "      <td>0.081</td>\n",
       "    </tr>\n",
       "  </tbody>\n",
       "</table>\n",
       "</div>"
      ],
      "text/plain": [
       "                       2018   2015   2010   2005   2000   1995   1990  Change\n",
       "Chile                 0.847  0.839  0.800  0.788  0.753  0.726  0.703   0.136\n",
       "Argentina             0.830  0.828  0.818  0.777  0.770  0.731  0.707   0.121\n",
       "Uruguay               0.808  0.802  0.774  0.756  0.742  0.710  0.692   0.110\n",
       "Costa Rica            0.795  0.782  0.758  0.739  0.719  0.688  0.659   0.123\n",
       "Cuba                  0.794  0.786  0.754  0.727  0.711  0.686  0.655   0.131\n",
       "Panamá                0.779  0.768  0.777  0.730  0.686  0.654  0.676   0.092\n",
       "México                0.767  0.759  0.739  0.729  0.705  0.672  0.652   0.107\n",
       "Brasil                0.761  0.755  0.726  0.699  0.684  0.650  0.613   0.142\n",
       "Colombia              0.761  0.753  0.729  0.692  0.662  0.633  0.599   0.154\n",
       "Guatemala             0.745  0.733  0.700  0.675  0.653  0.624  0.593   0.140\n",
       "República Dominicana  0.726  0.763  0.753  0.714  0.672  0.661  0.638   0.125\n",
       "Paraguay              0.730  0.718  0.692  0.667  0.640  0.622  0.588   0.130\n",
       "Bolivia               0.703  0.685  0.656  0.632  0.616  0.578  0.540   0.145\n",
       "Venezuela             0.667  0.660  0.659  0.638  0.608  0.573  0.529   0.131\n",
       "El Salvador           0.651  0.646  0.602  0.571  0.546  0.507  0.478   0.168\n",
       "Nicaragua             0.651  0.644  0.614  0.593  0.568  0.523  0.494   0.150\n",
       "Honduras              0.623  0.613  0.598  0.581  0.555  0.530  0.508   0.105\n",
       "Haití                 0.503  0.493  0.467  0.451  0.440  0.421  0.412   0.081"
      ]
     },
     "execution_count": 6,
     "metadata": {},
     "output_type": "execute_result"
    }
   ],
   "source": [
    "df = pd.DataFrame(values, columns=col_names, index=countries)\n",
    "df[\"Change\"] = df.iloc[:,1] - df.iloc[:,len(df.columns)-1]\n",
    "df"
   ]
  },
  {
   "cell_type": "markdown",
   "metadata": {},
   "source": [
    "### Feature Selection"
   ]
  },
  {
   "cell_type": "code",
   "execution_count": 13,
   "metadata": {},
   "outputs": [
    {
     "ename": "TypeError",
     "evalue": "combinations() missing required argument 'r' (pos 2)",
     "output_type": "error",
     "traceback": [
      "\u001b[0;31m---------------------------------------------------------------------------\u001b[0m",
      "\u001b[0;31mTypeError\u001b[0m                                 Traceback (most recent call last)",
      "\u001b[0;32m<ipython-input-13-4014f13caf8d>\u001b[0m in \u001b[0;36m<module>\u001b[0;34m\u001b[0m\n\u001b[0;32m----> 1\u001b[0;31m \u001b[0mcomb\u001b[0m \u001b[0;34m=\u001b[0m \u001b[0mcombinations\u001b[0m\u001b[0;34m(\u001b[0m\u001b[0mdf\u001b[0m\u001b[0;34m.\u001b[0m\u001b[0mcolumns\u001b[0m\u001b[0;34m.\u001b[0m\u001b[0mto_list\u001b[0m\u001b[0;34m(\u001b[0m\u001b[0;34m)\u001b[0m\u001b[0;34m)\u001b[0m\u001b[0;34m\u001b[0m\u001b[0;34m\u001b[0m\u001b[0m\n\u001b[0m",
      "\u001b[0;31mTypeError\u001b[0m: combinations() missing required argument 'r' (pos 2)"
     ]
    }
   ],
   "source": [
    "comb = combinations(df.columns.to_list())"
   ]
  },
  {
   "cell_type": "code",
   "execution_count": 10,
   "metadata": {},
   "outputs": [
    {
     "data": {
      "text/plain": [
       "Index(['2018', '2015', '2010', '2005', '2000', '1995', '1990', 'Change'], dtype='object')"
      ]
     },
     "execution_count": 10,
     "metadata": {},
     "output_type": "execute_result"
    }
   ],
   "source": [
    "df.columns"
   ]
  },
  {
   "cell_type": "code",
   "execution_count": 8,
   "metadata": {},
   "outputs": [],
   "source": [
    "X = df[['2015']]\n",
    "Y = df['2018']"
   ]
  },
  {
   "cell_type": "code",
   "execution_count": 9,
   "metadata": {},
   "outputs": [
    {
     "name": "stdout",
     "output_type": "stream",
     "text": [
      "                                 OLS Regression Results                                \n",
      "=======================================================================================\n",
      "Dep. Variable:                   2018   R-squared (uncentered):                   1.000\n",
      "Model:                            OLS   Adj. R-squared (uncentered):              1.000\n",
      "Method:                 Least Squares   F-statistic:                          7.301e+04\n",
      "Date:                Sun, 05 Jul 2020   Prob (F-statistic):                    2.51e-32\n",
      "Time:                        12:10:06   Log-Likelihood:                          55.295\n",
      "No. Observations:                  18   AIC:                                     -108.6\n",
      "Df Residuals:                      17   BIC:                                     -107.7\n",
      "Df Model:                           1                                                  \n",
      "Covariance Type:            nonrobust                                                  \n",
      "==============================================================================\n",
      "                 coef    std err          t      P>|t|      [0.025      0.975]\n",
      "------------------------------------------------------------------------------\n",
      "2015           1.0083      0.004    270.199      0.000       1.000       1.016\n",
      "==============================================================================\n",
      "Omnibus:                       38.971   Durbin-Watson:                   2.304\n",
      "Prob(Omnibus):                  0.000   Jarque-Bera (JB):              103.827\n",
      "Skew:                          -3.185   Prob(JB):                     2.85e-23\n",
      "Kurtosis:                      12.893   Cond. No.                         1.00\n",
      "==============================================================================\n",
      "\n",
      "Warnings:\n",
      "[1] Standard Errors assume that the covariance matrix of the errors is correctly specified.\n"
     ]
    },
    {
     "name": "stderr",
     "output_type": "stream",
     "text": [
      "/opt/anaconda3/envs/myenv/lib/python3.7/site-packages/scipy/stats/stats.py:1604: UserWarning: kurtosistest only valid for n>=20 ... continuing anyway, n=18\n",
      "  \"anyway, n=%i\" % int(n))\n"
     ]
    }
   ],
   "source": [
    "lreg = LinearRegression()\n",
    "lreg.fit(X,Y)\n",
    "pred = lreg.predict(X)\n",
    "\n",
    "#X2 = sm.add_constant(X)\n",
    "est = sm.OLS(Y, X)\n",
    "est2 = est.fit()\n",
    "print(est2.summary())"
   ]
  },
  {
   "cell_type": "markdown",
   "metadata": {},
   "source": [
    "### Model fitting and cross validation"
   ]
  },
  {
   "cell_type": "code",
   "execution_count": 11,
   "metadata": {},
   "outputs": [
    {
     "name": "stdout",
     "output_type": "stream",
     "text": [
      "R2:  0.9663247535036669\n",
      "R2:  0.8354477891596949\n",
      "R2:  0.12900577350330267\n",
      "R2:  0.9950791222954323\n",
      "Avg R2: 0.7314643596155241\n"
     ]
    }
   ],
   "source": [
    "kf = KFold(n_splits=4)\n",
    "kf.get_n_splits(X)\n",
    "\n",
    "model = LinearRegression(fit_intercept=False)\n",
    "\n",
    "results = []\n",
    "# cross validation\n",
    "for train_idx, test_idx in kf.split(X):\n",
    "    X_train, X_test = X.iloc[train_idx,], X.iloc[test_idx,]\n",
    "    y_train, y_test = Y[train_idx], Y[test_idx]\n",
    "    model.fit(X_train, y_train)\n",
    "    predictions = model.predict(X_test)\n",
    "    r2 = r2_score(y_test, predictions)\n",
    "    print(\"R2: \", r2)\n",
    "    results.append(r2)\n",
    "\n",
    "print(\"Avg R2:\", np.mean(results))"
   ]
  },
  {
   "cell_type": "code",
   "execution_count": 23,
   "metadata": {},
   "outputs": [
    {
     "data": {
      "text/html": [
       "<div>\n",
       "<style scoped>\n",
       "    .dataframe tbody tr th:only-of-type {\n",
       "        vertical-align: middle;\n",
       "    }\n",
       "\n",
       "    .dataframe tbody tr th {\n",
       "        vertical-align: top;\n",
       "    }\n",
       "\n",
       "    .dataframe thead th {\n",
       "        text-align: right;\n",
       "    }\n",
       "</style>\n",
       "<table border=\"1\" class=\"dataframe\">\n",
       "  <thead>\n",
       "    <tr style=\"text-align: right;\">\n",
       "      <th></th>\n",
       "      <th>2015</th>\n",
       "      <th>2010</th>\n",
       "      <th>2005</th>\n",
       "      <th>2000</th>\n",
       "      <th>1995</th>\n",
       "      <th>1990</th>\n",
       "      <th>Change</th>\n",
       "    </tr>\n",
       "  </thead>\n",
       "  <tbody>\n",
       "    <tr>\n",
       "      <th>El Salvador</th>\n",
       "      <td>0.646</td>\n",
       "      <td>0.602</td>\n",
       "      <td>0.571</td>\n",
       "      <td>0.546</td>\n",
       "      <td>0.507</td>\n",
       "      <td>0.478</td>\n",
       "      <td>0.168</td>\n",
       "    </tr>\n",
       "    <tr>\n",
       "      <th>Nicaragua</th>\n",
       "      <td>0.644</td>\n",
       "      <td>0.614</td>\n",
       "      <td>0.593</td>\n",
       "      <td>0.568</td>\n",
       "      <td>0.523</td>\n",
       "      <td>0.494</td>\n",
       "      <td>0.150</td>\n",
       "    </tr>\n",
       "    <tr>\n",
       "      <th>Honduras</th>\n",
       "      <td>0.613</td>\n",
       "      <td>0.598</td>\n",
       "      <td>0.581</td>\n",
       "      <td>0.555</td>\n",
       "      <td>0.530</td>\n",
       "      <td>0.508</td>\n",
       "      <td>0.105</td>\n",
       "    </tr>\n",
       "    <tr>\n",
       "      <th>Haití</th>\n",
       "      <td>0.493</td>\n",
       "      <td>0.467</td>\n",
       "      <td>0.451</td>\n",
       "      <td>0.440</td>\n",
       "      <td>0.421</td>\n",
       "      <td>0.412</td>\n",
       "      <td>0.081</td>\n",
       "    </tr>\n",
       "  </tbody>\n",
       "</table>\n",
       "</div>"
      ],
      "text/plain": [
       "              2015   2010   2005   2000   1995   1990  Change\n",
       "El Salvador  0.646  0.602  0.571  0.546  0.507  0.478   0.168\n",
       "Nicaragua    0.644  0.614  0.593  0.568  0.523  0.494   0.150\n",
       "Honduras     0.613  0.598  0.581  0.555  0.530  0.508   0.105\n",
       "Haití        0.493  0.467  0.451  0.440  0.421  0.412   0.081"
      ]
     },
     "execution_count": 23,
     "metadata": {},
     "output_type": "execute_result"
    }
   ],
   "source": [
    "X_test"
   ]
  },
  {
   "cell_type": "code",
   "execution_count": 41,
   "metadata": {},
   "outputs": [
    {
     "data": {
      "text/plain": [
       "array([0.64699741, 0.64649301, 0.62639152, 0.50903709])"
      ]
     },
     "execution_count": 41,
     "metadata": {},
     "output_type": "execute_result"
    }
   ],
   "source": [
    "model.predict(X_test)"
   ]
  },
  {
   "cell_type": "code",
   "execution_count": 42,
   "metadata": {},
   "outputs": [
    {
     "data": {
      "text/plain": [
       "array([0.64699741, 0.64649301, 0.62639152, 0.50903709])"
      ]
     },
     "execution_count": 42,
     "metadata": {},
     "output_type": "execute_result"
    }
   ],
   "source": [
    "predictions"
   ]
  },
  {
   "cell_type": "code",
   "execution_count": 43,
   "metadata": {},
   "outputs": [
    {
     "data": {
      "text/plain": [
       "El Salvador    0.651\n",
       "Nicaragua      0.651\n",
       "Honduras       0.623\n",
       "Haití          0.503\n",
       "Name: 2018, dtype: float64"
      ]
     },
     "execution_count": 43,
     "metadata": {},
     "output_type": "execute_result"
    }
   ],
   "source": [
    "y_test"
   ]
  },
  {
   "cell_type": "code",
   "execution_count": null,
   "metadata": {},
   "outputs": [],
   "source": []
  }
 ],
 "metadata": {
  "kernelspec": {
   "display_name": "Python 3",
   "language": "python",
   "name": "python3"
  },
  "language_info": {
   "codemirror_mode": {
    "name": "ipython",
    "version": 3
   },
   "file_extension": ".py",
   "mimetype": "text/x-python",
   "name": "python",
   "nbconvert_exporter": "python",
   "pygments_lexer": "ipython3",
   "version": "3.7.6"
  }
 },
 "nbformat": 4,
 "nbformat_minor": 4
}
